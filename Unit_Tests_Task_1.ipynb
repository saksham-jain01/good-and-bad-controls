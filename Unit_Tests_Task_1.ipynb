{
  "nbformat": 4,
  "nbformat_minor": 0,
  "metadata": {
    "colab": {
      "provenance": []
    },
    "kernelspec": {
      "name": "python3",
      "display_name": "Python 3"
    },
    "language_info": {
      "name": "python"
    }
  },
  "cells": [
    {
      "cell_type": "code",
      "execution_count": 3,
      "metadata": {
        "id": "1A9m3vq7qRCT"
      },
      "outputs": [],
      "source": [
        "import numpy as np\n",
        "import pandas as pd\n",
        "import math as m\n",
        "import statsmodels.api as sm"
      ]
    },
    {
      "cell_type": "markdown",
      "source": [
        "# simple setting\n",
        "\\begin{aligned}\n",
        "    &Y = \\beta_0 + \\beta_1*X + \\beta_2U_2 + \\epsilon\\;\\\\\n",
        "    &X = \\beta_{0}' + \\beta_1'U_1\\\\\n",
        "    &Z = \\beta_1''U_1 + \\beta_2''U_2\n",
        "\\end{aligned}\n",
        "\n",
        "$\\beta_1 \\sim \\mathcal{N}(0.75, 0.2^2)$ and therefore, the average causal effect (ACE) is set to 0.75.\n",
        "\n",
        "Further, $\\beta_0 = 2, \\beta_2 = 0.25, \\beta_{0}'=0.1, \\beta_1'=0.5, \\beta_1''=0.2, \\beta_2''=0.3$."
      ],
      "metadata": {
        "id": "Fhc1qUudu-yv"
      }
    },
    {
      "cell_type": "code",
      "source": [
        "def _construct_data_simple(u1_params={'mean':2, 'sd':0.25}, \n",
        "                    u2_params={'mean':0, 'sd':1}, \n",
        "                    beta1_params={'mean':0.7, 'sd':0.2}, \n",
        "                    n=1000,\n",
        "                    include_Z=False):\n",
        "    \"\"\"\n",
        "    Constructs the dataset for the simple setting of the proposed unit test\n",
        "    :param u1_params: dictionary of paramters for distribution of unobserved variable U1\n",
        "    :param u2_params: dictionary of paramters for distribution of unobserved variable U2\n",
        "    :param beta1_params: dictionary of paramters for distribution of the causal effect\n",
        "    :param n: total sample size\n",
        "    :param include_Z: flag for including or excliding the bad control\n",
        "    :return: the features, and the outcome\n",
        "    \"\"\"\n",
        "    U1 = np.random.normal(u1_params['mean'], u1_params['sd'], n)\n",
        "    U2 = np.random.normal(u2_params['mean'], u2_params['sd'], n)\n",
        "    beta1 = np.random.normal(beta1_params['mean'], beta1_params['sd'], n)\n",
        "\n",
        "    X = 0.1 + 0.5*U1\n",
        "    Z = 0.2*U1 + 0.3*U2\n",
        "    Y = 2 + beta1*X + 0.25*U2\n",
        "\n",
        "    if include_Z:\n",
        "      return np.array([X, Z]).T, Y\n",
        "    else:\n",
        "      return np.expand_dims(X, axis=1), Y"
      ],
      "metadata": {
        "id": "5iNH8TyyHeEa"
      },
      "execution_count": 6,
      "outputs": []
    },
    {
      "cell_type": "code",
      "source": [
        "def _regression_summary(X_data, Y_data):\n",
        "    \"\"\"\n",
        "    Adds the intercept term and fits OLS\n",
        "    :param X_data: the features\n",
        "    :param Y_data: the outcome\n",
        "    :return: the OLS regression table\n",
        "    \"\"\"\n",
        "    X_data = sm.add_constant(X_data, prepend=True)\n",
        "    model = sm.OLS(Y_data, X_data)\n",
        "    result = model.fit()\n",
        "    return result.summary()"
      ],
      "metadata": {
        "id": "BbdEPNO5JxkE"
      },
      "execution_count": 7,
      "outputs": []
    },
    {
      "cell_type": "code",
      "source": [
        "X, Y  = _construct_data_simple(include_Z=False)\n",
        "_regression_summary(X, Y)"
      ],
      "metadata": {
        "colab": {
          "base_uri": "https://localhost:8080/",
          "height": 441
        },
        "id": "GFpt_heoKdbE",
        "outputId": "e53b7a3c-c11f-4c0a-aeb8-cab13e128d56"
      },
      "execution_count": 29,
      "outputs": [
        {
          "output_type": "execute_result",
          "data": {
            "text/plain": [
              "<class 'statsmodels.iolib.summary.Summary'>\n",
              "\"\"\"\n",
              "                            OLS Regression Results                            \n",
              "==============================================================================\n",
              "Dep. Variable:                      y   R-squared:                       0.064\n",
              "Model:                            OLS   Adj. R-squared:                  0.063\n",
              "Method:                 Least Squares   F-statistic:                     67.95\n",
              "Date:                Thu, 17 Nov 2022   Prob (F-statistic):           5.25e-16\n",
              "Time:                        18:24:35   Log-Likelihood:                -384.62\n",
              "No. Observations:                1000   AIC:                             773.2\n",
              "Df Residuals:                     998   BIC:                             783.1\n",
              "Df Model:                           1                                         \n",
              "Covariance Type:            nonrobust                                         \n",
              "==============================================================================\n",
              "                 coef    std err          t      P>|t|      [0.025      0.975]\n",
              "------------------------------------------------------------------------------\n",
              "const          1.9430      0.100     19.345      0.000       1.746       2.140\n",
              "x1             0.7489      0.091      8.243      0.000       0.571       0.927\n",
              "==============================================================================\n",
              "Omnibus:                        2.654   Durbin-Watson:                   2.121\n",
              "Prob(Omnibus):                  0.265   Jarque-Bera (JB):                2.631\n",
              "Skew:                           0.091   Prob(JB):                        0.268\n",
              "Kurtosis:                       2.826   Cond. No.                         17.9\n",
              "==============================================================================\n",
              "\n",
              "Notes:\n",
              "[1] Standard Errors assume that the covariance matrix of the errors is correctly specified.\n",
              "\"\"\""
            ],
            "text/html": [
              "<table class=\"simpletable\">\n",
              "<caption>OLS Regression Results</caption>\n",
              "<tr>\n",
              "  <th>Dep. Variable:</th>            <td>y</td>        <th>  R-squared:         </th> <td>   0.064</td>\n",
              "</tr>\n",
              "<tr>\n",
              "  <th>Model:</th>                   <td>OLS</td>       <th>  Adj. R-squared:    </th> <td>   0.063</td>\n",
              "</tr>\n",
              "<tr>\n",
              "  <th>Method:</th>             <td>Least Squares</td>  <th>  F-statistic:       </th> <td>   67.95</td>\n",
              "</tr>\n",
              "<tr>\n",
              "  <th>Date:</th>             <td>Thu, 17 Nov 2022</td> <th>  Prob (F-statistic):</th> <td>5.25e-16</td>\n",
              "</tr>\n",
              "<tr>\n",
              "  <th>Time:</th>                 <td>18:24:35</td>     <th>  Log-Likelihood:    </th> <td> -384.62</td>\n",
              "</tr>\n",
              "<tr>\n",
              "  <th>No. Observations:</th>      <td>  1000</td>      <th>  AIC:               </th> <td>   773.2</td>\n",
              "</tr>\n",
              "<tr>\n",
              "  <th>Df Residuals:</th>          <td>   998</td>      <th>  BIC:               </th> <td>   783.1</td>\n",
              "</tr>\n",
              "<tr>\n",
              "  <th>Df Model:</th>              <td>     1</td>      <th>                     </th>     <td> </td>   \n",
              "</tr>\n",
              "<tr>\n",
              "  <th>Covariance Type:</th>      <td>nonrobust</td>    <th>                     </th>     <td> </td>   \n",
              "</tr>\n",
              "</table>\n",
              "<table class=\"simpletable\">\n",
              "<tr>\n",
              "    <td></td>       <th>coef</th>     <th>std err</th>      <th>t</th>      <th>P>|t|</th>  <th>[0.025</th>    <th>0.975]</th>  \n",
              "</tr>\n",
              "<tr>\n",
              "  <th>const</th> <td>    1.9430</td> <td>    0.100</td> <td>   19.345</td> <td> 0.000</td> <td>    1.746</td> <td>    2.140</td>\n",
              "</tr>\n",
              "<tr>\n",
              "  <th>x1</th>    <td>    0.7489</td> <td>    0.091</td> <td>    8.243</td> <td> 0.000</td> <td>    0.571</td> <td>    0.927</td>\n",
              "</tr>\n",
              "</table>\n",
              "<table class=\"simpletable\">\n",
              "<tr>\n",
              "  <th>Omnibus:</th>       <td> 2.654</td> <th>  Durbin-Watson:     </th> <td>   2.121</td>\n",
              "</tr>\n",
              "<tr>\n",
              "  <th>Prob(Omnibus):</th> <td> 0.265</td> <th>  Jarque-Bera (JB):  </th> <td>   2.631</td>\n",
              "</tr>\n",
              "<tr>\n",
              "  <th>Skew:</th>          <td> 0.091</td> <th>  Prob(JB):          </th> <td>   0.268</td>\n",
              "</tr>\n",
              "<tr>\n",
              "  <th>Kurtosis:</th>      <td> 2.826</td> <th>  Cond. No.          </th> <td>    17.9</td>\n",
              "</tr>\n",
              "</table><br/><br/>Notes:<br/>[1] Standard Errors assume that the covariance matrix of the errors is correctly specified."
            ]
          },
          "metadata": {},
          "execution_count": 29
        }
      ]
    },
    {
      "cell_type": "markdown",
      "source": [
        "From the above table, we get $\\beta_1 \\approx 0.75$, with $CI \\; [0.571, 0.927]$\n",
        "\n"
      ],
      "metadata": {
        "id": "AMM1O5Q_0JQr"
      }
    },
    {
      "cell_type": "code",
      "source": [
        "X, Y = _construct_data_simple(include_Z=True)\n",
        "_regression_summary(X, Y)"
      ],
      "metadata": {
        "colab": {
          "base_uri": "https://localhost:8080/",
          "height": 462
        },
        "id": "bwzG3V3h0BHN",
        "outputId": "21ad216b-815a-44e5-e7e9-4ae0f7f3b8b1"
      },
      "execution_count": 35,
      "outputs": [
        {
          "output_type": "execute_result",
          "data": {
            "text/plain": [
              "<class 'statsmodels.iolib.summary.Summary'>\n",
              "\"\"\"\n",
              "                            OLS Regression Results                            \n",
              "==============================================================================\n",
              "Dep. Variable:                      y   R-squared:                       0.626\n",
              "Model:                            OLS   Adj. R-squared:                  0.626\n",
              "Method:                 Least Squares   F-statistic:                     836.0\n",
              "Date:                Thu, 17 Nov 2022   Prob (F-statistic):          6.58e-214\n",
              "Time:                        18:25:54   Log-Likelihood:                 136.35\n",
              "No. Observations:                1000   AIC:                            -266.7\n",
              "Df Residuals:                     997   BIC:                            -252.0\n",
              "Df Model:                           2                                         \n",
              "Covariance Type:            nonrobust                                         \n",
              "==============================================================================\n",
              "                 coef    std err          t      P>|t|      [0.025      0.975]\n",
              "------------------------------------------------------------------------------\n",
              "const          2.0316      0.057     35.760      0.000       1.920       2.143\n",
              "x1             0.3728      0.053      7.086      0.000       0.270       0.476\n",
              "x2             0.8249      0.022     37.380      0.000       0.782       0.868\n",
              "==============================================================================\n",
              "Omnibus:                        4.270   Durbin-Watson:                   2.026\n",
              "Prob(Omnibus):                  0.118   Jarque-Bera (JB):                4.247\n",
              "Skew:                           0.120   Prob(JB):                        0.120\n",
              "Kurtosis:                       3.211   Cond. No.                         17.8\n",
              "==============================================================================\n",
              "\n",
              "Notes:\n",
              "[1] Standard Errors assume that the covariance matrix of the errors is correctly specified.\n",
              "\"\"\""
            ],
            "text/html": [
              "<table class=\"simpletable\">\n",
              "<caption>OLS Regression Results</caption>\n",
              "<tr>\n",
              "  <th>Dep. Variable:</th>            <td>y</td>        <th>  R-squared:         </th> <td>   0.626</td> \n",
              "</tr>\n",
              "<tr>\n",
              "  <th>Model:</th>                   <td>OLS</td>       <th>  Adj. R-squared:    </th> <td>   0.626</td> \n",
              "</tr>\n",
              "<tr>\n",
              "  <th>Method:</th>             <td>Least Squares</td>  <th>  F-statistic:       </th> <td>   836.0</td> \n",
              "</tr>\n",
              "<tr>\n",
              "  <th>Date:</th>             <td>Thu, 17 Nov 2022</td> <th>  Prob (F-statistic):</th> <td>6.58e-214</td>\n",
              "</tr>\n",
              "<tr>\n",
              "  <th>Time:</th>                 <td>18:25:54</td>     <th>  Log-Likelihood:    </th> <td>  136.35</td> \n",
              "</tr>\n",
              "<tr>\n",
              "  <th>No. Observations:</th>      <td>  1000</td>      <th>  AIC:               </th> <td>  -266.7</td> \n",
              "</tr>\n",
              "<tr>\n",
              "  <th>Df Residuals:</th>          <td>   997</td>      <th>  BIC:               </th> <td>  -252.0</td> \n",
              "</tr>\n",
              "<tr>\n",
              "  <th>Df Model:</th>              <td>     2</td>      <th>                     </th>     <td> </td>    \n",
              "</tr>\n",
              "<tr>\n",
              "  <th>Covariance Type:</th>      <td>nonrobust</td>    <th>                     </th>     <td> </td>    \n",
              "</tr>\n",
              "</table>\n",
              "<table class=\"simpletable\">\n",
              "<tr>\n",
              "    <td></td>       <th>coef</th>     <th>std err</th>      <th>t</th>      <th>P>|t|</th>  <th>[0.025</th>    <th>0.975]</th>  \n",
              "</tr>\n",
              "<tr>\n",
              "  <th>const</th> <td>    2.0316</td> <td>    0.057</td> <td>   35.760</td> <td> 0.000</td> <td>    1.920</td> <td>    2.143</td>\n",
              "</tr>\n",
              "<tr>\n",
              "  <th>x1</th>    <td>    0.3728</td> <td>    0.053</td> <td>    7.086</td> <td> 0.000</td> <td>    0.270</td> <td>    0.476</td>\n",
              "</tr>\n",
              "<tr>\n",
              "  <th>x2</th>    <td>    0.8249</td> <td>    0.022</td> <td>   37.380</td> <td> 0.000</td> <td>    0.782</td> <td>    0.868</td>\n",
              "</tr>\n",
              "</table>\n",
              "<table class=\"simpletable\">\n",
              "<tr>\n",
              "  <th>Omnibus:</th>       <td> 4.270</td> <th>  Durbin-Watson:     </th> <td>   2.026</td>\n",
              "</tr>\n",
              "<tr>\n",
              "  <th>Prob(Omnibus):</th> <td> 0.118</td> <th>  Jarque-Bera (JB):  </th> <td>   4.247</td>\n",
              "</tr>\n",
              "<tr>\n",
              "  <th>Skew:</th>          <td> 0.120</td> <th>  Prob(JB):          </th> <td>   0.120</td>\n",
              "</tr>\n",
              "<tr>\n",
              "  <th>Kurtosis:</th>      <td> 3.211</td> <th>  Cond. No.          </th> <td>    17.8</td>\n",
              "</tr>\n",
              "</table><br/><br/>Notes:<br/>[1] Standard Errors assume that the covariance matrix of the errors is correctly specified."
            ]
          },
          "metadata": {},
          "execution_count": 35
        }
      ]
    },
    {
      "cell_type": "markdown",
      "source": [
        "Now, when Z is included, $\\beta_1 \\approx 0.37$ with $CI \\; [0.270, 0.476]$, which \n",
        "is a biased ACE estimate."
      ],
      "metadata": {
        "id": "OUWtQ0r_1zSN"
      }
    },
    {
      "cell_type": "markdown",
      "source": [
        "# generalized setting\n",
        "\n",
        "\\begin{aligned}\n",
        "    Y &= \\beta_0 + \\beta_1*X + \\beta_2U_2 + \\mathbf{W}\\theta + \\epsilon + \\delta\\;\\\\\n",
        "    X &= \\beta_{0}' + \\beta_1'U_1\\\\\n",
        "    Z &= \\beta_1''U_1 + \\beta_2''U_2\n",
        "\\end{aligned}\n",
        "\n",
        "Here the new terms are the neutral controls $W_1, ..., W_d$ contained in $\\mathbf{W}$, and their coefficients $\\theta \\in \\mathbb{R}^d$, along with the additional noise term $\\delta$. The average causal effect is still set to 0.75."
      ],
      "metadata": {
        "id": "S-vAwv919DAN"
      }
    },
    {
      "cell_type": "code",
      "source": [
        "def _make_theta(d=10, n=1000):\n",
        "    \"\"\"\n",
        "    Makes the coefficients for the neutral controls\n",
        "    :param d: the dimension of theta\n",
        "    :param n: the total number of samples (used in computation of the thetas)\n",
        "    :return: the theta vector\n",
        "    \"\"\"\n",
        "    return np.array([10/(j*m.sqrt(n)) for j in range(1, d+1)]) "
      ],
      "metadata": {
        "id": "KYNi9nFX1BJV"
      },
      "execution_count": 8,
      "outputs": []
    },
    {
      "cell_type": "code",
      "source": [
        "def _construct_data_general(d=10, mean_eps = 0, r = 0.8, n = 1000, include_Z=False):\n",
        "    \"\"\"\n",
        "    Constructs the data set for the generalized setting of the proposed unit test\n",
        "    :param d: the number of neutral controls\n",
        "    :param mean_eps: the mean of the additional noise term\n",
        "    :param r: the coefficient of determination for the nutral controls and outcome\n",
        "    :param n: total sample size\n",
        "    :param include_Z: flag for including or excluding the bad control\n",
        "    :return: the features, and the outcome\n",
        "    \"\"\"\n",
        "    theta = _make_theta(d=d, n=n)\n",
        "    var_delta = ((1-r)/r)*np.transpose(theta)@np.eye(d)@theta\n",
        "    delta = np.random.normal(mean_eps, m.sqrt(var_delta), n)\n",
        "    W = np.random.multivariate_normal(np.zeros(d), np.eye(d), n)\n",
        "\n",
        "    X_data, Y_data = _construct_data_simple(n=n, include_Z=include_Z)\n",
        "\n",
        "    Y_data = Y_data + W@theta + delta\n",
        "    X_data = np.hstack([X_data, W])\n",
        "\n",
        "    return X_data, Y_data"
      ],
      "metadata": {
        "id": "xvjaQ0QT_uHT"
      },
      "execution_count": 113,
      "outputs": []
    },
    {
      "cell_type": "code",
      "source": [
        "X_data, Y_data = _construct_data_general(include_Z=False)\n",
        "_regression_summary(X_data, Y_data)"
      ],
      "metadata": {
        "colab": {
          "base_uri": "https://localhost:8080/",
          "height": 649
        },
        "id": "R_HxyHI_tIE7",
        "outputId": "d9626e2f-b5ab-45e8-c908-2ee7bc9e7748"
      },
      "execution_count": 114,
      "outputs": [
        {
          "output_type": "execute_result",
          "data": {
            "text/plain": [
              "<class 'statsmodels.iolib.summary.Summary'>\n",
              "\"\"\"\n",
              "                            OLS Regression Results                            \n",
              "==============================================================================\n",
              "Dep. Variable:                      y   R-squared:                       0.539\n",
              "Model:                            OLS   Adj. R-squared:                  0.534\n",
              "Method:                 Least Squares   F-statistic:                     105.0\n",
              "Date:                Thu, 17 Nov 2022   Prob (F-statistic):          1.11e-157\n",
              "Time:                        22:56:48   Log-Likelihood:                -489.28\n",
              "No. Observations:                1000   AIC:                             1003.\n",
              "Df Residuals:                     988   BIC:                             1061.\n",
              "Df Model:                          11                                         \n",
              "Covariance Type:            nonrobust                                         \n",
              "==============================================================================\n",
              "                 coef    std err          t      P>|t|      [0.025      0.975]\n",
              "------------------------------------------------------------------------------\n",
              "const          1.9264      0.112     17.185      0.000       1.706       2.146\n",
              "x1             0.7631      0.101      7.550      0.000       0.565       0.961\n",
              "x2             0.3246      0.012     26.852      0.000       0.301       0.348\n",
              "x3             0.1595      0.013     12.066      0.000       0.134       0.185\n",
              "x4             0.0890      0.013      7.044      0.000       0.064       0.114\n",
              "x5             0.0653      0.012      5.259      0.000       0.041       0.090\n",
              "x6             0.0764      0.013      5.749      0.000       0.050       0.102\n",
              "x7             0.0310      0.013      2.478      0.013       0.006       0.056\n",
              "x8             0.0687      0.012      5.545      0.000       0.044       0.093\n",
              "x9             0.0312      0.012      2.513      0.012       0.007       0.056\n",
              "x10            0.0340      0.013      2.687      0.007       0.009       0.059\n",
              "x11            0.0222      0.012      1.801      0.072      -0.002       0.046\n",
              "==============================================================================\n",
              "Omnibus:                        3.258   Durbin-Watson:                   2.023\n",
              "Prob(Omnibus):                  0.196   Jarque-Bera (JB):                3.241\n",
              "Skew:                           0.139   Prob(JB):                        0.198\n",
              "Kurtosis:                       2.991   Cond. No.                         17.9\n",
              "==============================================================================\n",
              "\n",
              "Notes:\n",
              "[1] Standard Errors assume that the covariance matrix of the errors is correctly specified.\n",
              "\"\"\""
            ],
            "text/html": [
              "<table class=\"simpletable\">\n",
              "<caption>OLS Regression Results</caption>\n",
              "<tr>\n",
              "  <th>Dep. Variable:</th>            <td>y</td>        <th>  R-squared:         </th> <td>   0.539</td> \n",
              "</tr>\n",
              "<tr>\n",
              "  <th>Model:</th>                   <td>OLS</td>       <th>  Adj. R-squared:    </th> <td>   0.534</td> \n",
              "</tr>\n",
              "<tr>\n",
              "  <th>Method:</th>             <td>Least Squares</td>  <th>  F-statistic:       </th> <td>   105.0</td> \n",
              "</tr>\n",
              "<tr>\n",
              "  <th>Date:</th>             <td>Thu, 17 Nov 2022</td> <th>  Prob (F-statistic):</th> <td>1.11e-157</td>\n",
              "</tr>\n",
              "<tr>\n",
              "  <th>Time:</th>                 <td>22:56:48</td>     <th>  Log-Likelihood:    </th> <td> -489.28</td> \n",
              "</tr>\n",
              "<tr>\n",
              "  <th>No. Observations:</th>      <td>  1000</td>      <th>  AIC:               </th> <td>   1003.</td> \n",
              "</tr>\n",
              "<tr>\n",
              "  <th>Df Residuals:</th>          <td>   988</td>      <th>  BIC:               </th> <td>   1061.</td> \n",
              "</tr>\n",
              "<tr>\n",
              "  <th>Df Model:</th>              <td>    11</td>      <th>                     </th>     <td> </td>    \n",
              "</tr>\n",
              "<tr>\n",
              "  <th>Covariance Type:</th>      <td>nonrobust</td>    <th>                     </th>     <td> </td>    \n",
              "</tr>\n",
              "</table>\n",
              "<table class=\"simpletable\">\n",
              "<tr>\n",
              "    <td></td>       <th>coef</th>     <th>std err</th>      <th>t</th>      <th>P>|t|</th>  <th>[0.025</th>    <th>0.975]</th>  \n",
              "</tr>\n",
              "<tr>\n",
              "  <th>const</th> <td>    1.9264</td> <td>    0.112</td> <td>   17.185</td> <td> 0.000</td> <td>    1.706</td> <td>    2.146</td>\n",
              "</tr>\n",
              "<tr>\n",
              "  <th>x1</th>    <td>    0.7631</td> <td>    0.101</td> <td>    7.550</td> <td> 0.000</td> <td>    0.565</td> <td>    0.961</td>\n",
              "</tr>\n",
              "<tr>\n",
              "  <th>x2</th>    <td>    0.3246</td> <td>    0.012</td> <td>   26.852</td> <td> 0.000</td> <td>    0.301</td> <td>    0.348</td>\n",
              "</tr>\n",
              "<tr>\n",
              "  <th>x3</th>    <td>    0.1595</td> <td>    0.013</td> <td>   12.066</td> <td> 0.000</td> <td>    0.134</td> <td>    0.185</td>\n",
              "</tr>\n",
              "<tr>\n",
              "  <th>x4</th>    <td>    0.0890</td> <td>    0.013</td> <td>    7.044</td> <td> 0.000</td> <td>    0.064</td> <td>    0.114</td>\n",
              "</tr>\n",
              "<tr>\n",
              "  <th>x5</th>    <td>    0.0653</td> <td>    0.012</td> <td>    5.259</td> <td> 0.000</td> <td>    0.041</td> <td>    0.090</td>\n",
              "</tr>\n",
              "<tr>\n",
              "  <th>x6</th>    <td>    0.0764</td> <td>    0.013</td> <td>    5.749</td> <td> 0.000</td> <td>    0.050</td> <td>    0.102</td>\n",
              "</tr>\n",
              "<tr>\n",
              "  <th>x7</th>    <td>    0.0310</td> <td>    0.013</td> <td>    2.478</td> <td> 0.013</td> <td>    0.006</td> <td>    0.056</td>\n",
              "</tr>\n",
              "<tr>\n",
              "  <th>x8</th>    <td>    0.0687</td> <td>    0.012</td> <td>    5.545</td> <td> 0.000</td> <td>    0.044</td> <td>    0.093</td>\n",
              "</tr>\n",
              "<tr>\n",
              "  <th>x9</th>    <td>    0.0312</td> <td>    0.012</td> <td>    2.513</td> <td> 0.012</td> <td>    0.007</td> <td>    0.056</td>\n",
              "</tr>\n",
              "<tr>\n",
              "  <th>x10</th>   <td>    0.0340</td> <td>    0.013</td> <td>    2.687</td> <td> 0.007</td> <td>    0.009</td> <td>    0.059</td>\n",
              "</tr>\n",
              "<tr>\n",
              "  <th>x11</th>   <td>    0.0222</td> <td>    0.012</td> <td>    1.801</td> <td> 0.072</td> <td>   -0.002</td> <td>    0.046</td>\n",
              "</tr>\n",
              "</table>\n",
              "<table class=\"simpletable\">\n",
              "<tr>\n",
              "  <th>Omnibus:</th>       <td> 3.258</td> <th>  Durbin-Watson:     </th> <td>   2.023</td>\n",
              "</tr>\n",
              "<tr>\n",
              "  <th>Prob(Omnibus):</th> <td> 0.196</td> <th>  Jarque-Bera (JB):  </th> <td>   3.241</td>\n",
              "</tr>\n",
              "<tr>\n",
              "  <th>Skew:</th>          <td> 0.139</td> <th>  Prob(JB):          </th> <td>   0.198</td>\n",
              "</tr>\n",
              "<tr>\n",
              "  <th>Kurtosis:</th>      <td> 2.991</td> <th>  Cond. No.          </th> <td>    17.9</td>\n",
              "</tr>\n",
              "</table><br/><br/>Notes:<br/>[1] Standard Errors assume that the covariance matrix of the errors is correctly specified."
            ]
          },
          "metadata": {},
          "execution_count": 114
        }
      ]
    },
    {
      "cell_type": "markdown",
      "source": [
        "From the above table, we get $\\beta_1 \\approx 0.75$, with $CI \\; [0.565, 0.961]$"
      ],
      "metadata": {
        "id": "jcX4CukKzd5S"
      }
    },
    {
      "cell_type": "code",
      "source": [
        "X_data, Y_data = _construct_data_general(include_Z=True)\n",
        "_regression_summary(X_data, Y_data)"
      ],
      "metadata": {
        "colab": {
          "base_uri": "https://localhost:8080/",
          "height": 670
        },
        "id": "PlkIX-MixDbL",
        "outputId": "3ba581e3-c367-4ba0-f582-f72e90e4c0d1"
      },
      "execution_count": 116,
      "outputs": [
        {
          "output_type": "execute_result",
          "data": {
            "text/plain": [
              "<class 'statsmodels.iolib.summary.Summary'>\n",
              "\"\"\"\n",
              "                            OLS Regression Results                            \n",
              "==============================================================================\n",
              "Dep. Variable:                      y   R-squared:                       0.722\n",
              "Model:                            OLS   Adj. R-squared:                  0.719\n",
              "Method:                 Least Squares   F-statistic:                     213.8\n",
              "Date:                Thu, 17 Nov 2022   Prob (F-statistic):          1.63e-264\n",
              "Time:                        22:57:42   Log-Likelihood:                -239.62\n",
              "No. Observations:                1000   AIC:                             505.2\n",
              "Df Residuals:                     987   BIC:                             569.0\n",
              "Df Model:                          12                                         \n",
              "Covariance Type:            nonrobust                                         \n",
              "==============================================================================\n",
              "                 coef    std err          t      P>|t|      [0.025      0.975]\n",
              "------------------------------------------------------------------------------\n",
              "const          2.1035      0.086     24.598      0.000       1.936       2.271\n",
              "x1             0.2946      0.078      3.796      0.000       0.142       0.447\n",
              "x2             0.8490      0.032     26.336      0.000       0.786       0.912\n",
              "x3             0.3190      0.010     32.359      0.000       0.300       0.338\n",
              "x4             0.1572      0.010     15.967      0.000       0.138       0.176\n",
              "x5             0.0972      0.010     10.108      0.000       0.078       0.116\n",
              "x6             0.0798      0.010      8.111      0.000       0.060       0.099\n",
              "x7             0.0643      0.009      6.918      0.000       0.046       0.083\n",
              "x8             0.0603      0.010      6.154      0.000       0.041       0.079\n",
              "x9             0.0495      0.010      5.033      0.000       0.030       0.069\n",
              "x10            0.0503      0.010      4.818      0.000       0.030       0.071\n",
              "x11            0.0260      0.010      2.654      0.008       0.007       0.045\n",
              "x12            0.0286      0.010      2.923      0.004       0.009       0.048\n",
              "==============================================================================\n",
              "Omnibus:                        1.275   Durbin-Watson:                   2.068\n",
              "Prob(Omnibus):                  0.528   Jarque-Bera (JB):                1.201\n",
              "Skew:                           0.083   Prob(JB):                        0.549\n",
              "Kurtosis:                       3.034   Cond. No.                         18.3\n",
              "==============================================================================\n",
              "\n",
              "Notes:\n",
              "[1] Standard Errors assume that the covariance matrix of the errors is correctly specified.\n",
              "\"\"\""
            ],
            "text/html": [
              "<table class=\"simpletable\">\n",
              "<caption>OLS Regression Results</caption>\n",
              "<tr>\n",
              "  <th>Dep. Variable:</th>            <td>y</td>        <th>  R-squared:         </th> <td>   0.722</td> \n",
              "</tr>\n",
              "<tr>\n",
              "  <th>Model:</th>                   <td>OLS</td>       <th>  Adj. R-squared:    </th> <td>   0.719</td> \n",
              "</tr>\n",
              "<tr>\n",
              "  <th>Method:</th>             <td>Least Squares</td>  <th>  F-statistic:       </th> <td>   213.8</td> \n",
              "</tr>\n",
              "<tr>\n",
              "  <th>Date:</th>             <td>Thu, 17 Nov 2022</td> <th>  Prob (F-statistic):</th> <td>1.63e-264</td>\n",
              "</tr>\n",
              "<tr>\n",
              "  <th>Time:</th>                 <td>22:57:42</td>     <th>  Log-Likelihood:    </th> <td> -239.62</td> \n",
              "</tr>\n",
              "<tr>\n",
              "  <th>No. Observations:</th>      <td>  1000</td>      <th>  AIC:               </th> <td>   505.2</td> \n",
              "</tr>\n",
              "<tr>\n",
              "  <th>Df Residuals:</th>          <td>   987</td>      <th>  BIC:               </th> <td>   569.0</td> \n",
              "</tr>\n",
              "<tr>\n",
              "  <th>Df Model:</th>              <td>    12</td>      <th>                     </th>     <td> </td>    \n",
              "</tr>\n",
              "<tr>\n",
              "  <th>Covariance Type:</th>      <td>nonrobust</td>    <th>                     </th>     <td> </td>    \n",
              "</tr>\n",
              "</table>\n",
              "<table class=\"simpletable\">\n",
              "<tr>\n",
              "    <td></td>       <th>coef</th>     <th>std err</th>      <th>t</th>      <th>P>|t|</th>  <th>[0.025</th>    <th>0.975]</th>  \n",
              "</tr>\n",
              "<tr>\n",
              "  <th>const</th> <td>    2.1035</td> <td>    0.086</td> <td>   24.598</td> <td> 0.000</td> <td>    1.936</td> <td>    2.271</td>\n",
              "</tr>\n",
              "<tr>\n",
              "  <th>x1</th>    <td>    0.2946</td> <td>    0.078</td> <td>    3.796</td> <td> 0.000</td> <td>    0.142</td> <td>    0.447</td>\n",
              "</tr>\n",
              "<tr>\n",
              "  <th>x2</th>    <td>    0.8490</td> <td>    0.032</td> <td>   26.336</td> <td> 0.000</td> <td>    0.786</td> <td>    0.912</td>\n",
              "</tr>\n",
              "<tr>\n",
              "  <th>x3</th>    <td>    0.3190</td> <td>    0.010</td> <td>   32.359</td> <td> 0.000</td> <td>    0.300</td> <td>    0.338</td>\n",
              "</tr>\n",
              "<tr>\n",
              "  <th>x4</th>    <td>    0.1572</td> <td>    0.010</td> <td>   15.967</td> <td> 0.000</td> <td>    0.138</td> <td>    0.176</td>\n",
              "</tr>\n",
              "<tr>\n",
              "  <th>x5</th>    <td>    0.0972</td> <td>    0.010</td> <td>   10.108</td> <td> 0.000</td> <td>    0.078</td> <td>    0.116</td>\n",
              "</tr>\n",
              "<tr>\n",
              "  <th>x6</th>    <td>    0.0798</td> <td>    0.010</td> <td>    8.111</td> <td> 0.000</td> <td>    0.060</td> <td>    0.099</td>\n",
              "</tr>\n",
              "<tr>\n",
              "  <th>x7</th>    <td>    0.0643</td> <td>    0.009</td> <td>    6.918</td> <td> 0.000</td> <td>    0.046</td> <td>    0.083</td>\n",
              "</tr>\n",
              "<tr>\n",
              "  <th>x8</th>    <td>    0.0603</td> <td>    0.010</td> <td>    6.154</td> <td> 0.000</td> <td>    0.041</td> <td>    0.079</td>\n",
              "</tr>\n",
              "<tr>\n",
              "  <th>x9</th>    <td>    0.0495</td> <td>    0.010</td> <td>    5.033</td> <td> 0.000</td> <td>    0.030</td> <td>    0.069</td>\n",
              "</tr>\n",
              "<tr>\n",
              "  <th>x10</th>   <td>    0.0503</td> <td>    0.010</td> <td>    4.818</td> <td> 0.000</td> <td>    0.030</td> <td>    0.071</td>\n",
              "</tr>\n",
              "<tr>\n",
              "  <th>x11</th>   <td>    0.0260</td> <td>    0.010</td> <td>    2.654</td> <td> 0.008</td> <td>    0.007</td> <td>    0.045</td>\n",
              "</tr>\n",
              "<tr>\n",
              "  <th>x12</th>   <td>    0.0286</td> <td>    0.010</td> <td>    2.923</td> <td> 0.004</td> <td>    0.009</td> <td>    0.048</td>\n",
              "</tr>\n",
              "</table>\n",
              "<table class=\"simpletable\">\n",
              "<tr>\n",
              "  <th>Omnibus:</th>       <td> 1.275</td> <th>  Durbin-Watson:     </th> <td>   2.068</td>\n",
              "</tr>\n",
              "<tr>\n",
              "  <th>Prob(Omnibus):</th> <td> 0.528</td> <th>  Jarque-Bera (JB):  </th> <td>   1.201</td>\n",
              "</tr>\n",
              "<tr>\n",
              "  <th>Skew:</th>          <td> 0.083</td> <th>  Prob(JB):          </th> <td>   0.549</td>\n",
              "</tr>\n",
              "<tr>\n",
              "  <th>Kurtosis:</th>      <td> 3.034</td> <th>  Cond. No.          </th> <td>    18.3</td>\n",
              "</tr>\n",
              "</table><br/><br/>Notes:<br/>[1] Standard Errors assume that the covariance matrix of the errors is correctly specified."
            ]
          },
          "metadata": {},
          "execution_count": 116
        }
      ]
    },
    {
      "cell_type": "markdown",
      "source": [
        "Now, when Z is included, $\\beta_1 \\approx 0.29$ with $CI \\; [0.142, 0.447]$ which is a biased ACE estimate."
      ],
      "metadata": {
        "id": "ydYNV9DFz5wW"
      }
    },
    {
      "cell_type": "code",
      "source": [],
      "metadata": {
        "id": "Fo1G2TNKlhAq"
      },
      "execution_count": null,
      "outputs": []
    }
  ]
}